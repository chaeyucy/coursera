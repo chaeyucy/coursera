{
 "cells": [
  {
   "cell_type": "markdown",
   "metadata": {},
   "source": [
    "<center>\n",
    "    <img src=\"https://cf-courses-data.s3.us.cloud-object-storage.appdomain.cloud/IBMDeveloperSkillsNetwork-DS0105EN-SkillsNetwork/labs/Module2/images/SN_web_lightmode.png\" width=\"300\" alt=\"cognitiveclass.ai logo\">\n",
    "</center>\n"
   ]
  },
  {
   "cell_type": "markdown",
   "metadata": {},
   "source": [
    "#### Add your code below following the instructions given in the course\n"
   ]
  },
  {
   "cell_type": "code",
   "execution_count": null,
   "metadata": {},
   "outputs": [],
   "source": [
    "# A Beginner's Introduction to Data Science Tools and Expressions"
   ]
  },
  {
   "cell_type": "code",
   "execution_count": null,
   "metadata": {},
   "outputs": [],
   "source": [
    "# A Beginner's Introduction to Data Science Tools and Expressions\n",
    "\n",
    "This notebook provides a basic overview of fundamental concepts and tools used in the field of Data Science. We will explore common languages, libraries, and tools, along with simple arithmetic expressions and their implementation in a coding environment."
   ]
  },
  {
   "cell_type": "code",
   "execution_count": null,
   "metadata": {},
   "outputs": [],
   "source": [
    "# A Beginner's Introduction to Data Science Tools and Expressions\n",
    "\n",
    "This notebook provides a basic overview of fundamental concepts and tools used in the field of Data Science. We will explore common languages, libraries, and tools, along with simple arithmetic expressions and their implementation in a coding environment.\n",
    "\n",
    "## Data Science Languages\n",
    "\n",
    "Here are some of the popular programming languages used in Data Science:\n",
    "\n",
    "1.  Python\n",
    "2.  R\n",
    "3.  SQL\n",
    "4.  Scala\n",
    "5.  Julia"
   ]
  },
  {
   "cell_type": "code",
   "execution_count": null,
   "metadata": {},
   "outputs": [],
   "source": [
    "# A Beginner's Introduction to Data Science Tools and Expressions\n",
    "\n",
    "This notebook provides a basic overview of fundamental concepts and tools used in the field of Data Science. We will explore common languages, libraries, and tools, along with simple arithmetic expressions and their implementation in a coding environment.\n",
    "\n",
    "## Data Science Libraries\n",
    "\n",
    "Here are some of the popular libraries used in Data Science:\n",
    "\n",
    "1.  NumPy\n",
    "2.  Pandas\n",
    "3.  Matplotlib\n",
    "4.  Seaborn\n",
    "5.  Scikit-learn\n",
    "6.  TensorFlow\n",
    "7.  PyTorch"
   ]
  },
  {
   "cell_type": "code",
   "execution_count": null,
   "metadata": {},
   "outputs": [],
   "source": [
    "# A Beginner's Introduction to Data Science Tools and Expressions\n",
    "\n",
    "This notebook provides a basic overview of fundamental concepts and tools used in the field of Data Science. We will explore common languages, libraries, and tools, along with simple arithmetic expressions and their implementation in a coding environment.\n",
    "\n",
    "## Data Science Tools\n",
    "\n",
    "| Category            | Tool                 | Description                                          |\n",
    "| ------------------- | -------------------- | ---------------------------------------------------- |\n",
    "| Data Analysis/ML    | Jupyter/JupyterLab   | Interactive development environment                  |\n",
    "| Data Analysis/ML    | RStudio              | IDE for R programming                               |\n",
    "| Data Analysis/ML    | VS Code              | Popular code editor with data science extensions    |\n",
    "| Cloud Platforms     | Google Cloud Platform| Suite of cloud computing services                      |\n",
    "| Cloud Platforms     | AWS                  | Amazon Web Services cloud platform                   |\n",
    "| Cloud Platforms     | Microsoft Azure      | Microsoft's cloud computing platform               |\n",
    "| Big Data            | Apache Hadoop        | Framework for distributed storage and processing     |\n",
    "| Big Data            | Apache Spark         | Fast in-memory data processing engine                |\n",
    "| Databases           | MySQL                | Relational database management system                |\n",
    "| Databases           | PostgreSQL           | Advanced open-source relational database             |\n",
    "| Data Visualization  | Tableau              | Powerful data visualization tool                     |\n",
    "| Data Visualization  | Power BI             | Business analytics service with data visualization   |"
   ]
  },
  {
   "cell_type": "code",
   "execution_count": null,
   "metadata": {},
   "outputs": [],
   "source": [
    "# A Beginner's Introduction to Data Science Tools and Expressions\n",
    "\n",
    "This notebook provides a basic overview of fundamental concepts and tools used in the field of Data Science. We will explore common languages, libraries, and tools, along with simple arithmetic expressions and their implementation in a coding environment.\n",
    "\n",
    "## Arithmetic Expression Examples\n",
    "\n",
    "Below are a few examples of basic arithmetic expressions that can be evaluated in a programming environment."
   ]
  },
  {
   "cell_type": "code",
   "execution_count": null,
   "metadata": {},
   "outputs": [],
   "source": [
    "# This cell demonstrates multiplication and addition of numbers\n",
    "\n",
    "# Multiplication\n",
    "product = 5 * 3\n",
    "print(f\"The product of 5 and 3 is: {product}\")\n",
    "\n",
    "# Addition\n",
    "sum_result = 10 + 7\n",
    "print(f\"The sum of 10 and 7 is: {sum_result}\")"
   ]
  },
  {
   "cell_type": "code",
   "execution_count": null,
   "metadata": {},
   "outputs": [],
   "source": [
    "# This cell demonstrates the conversion of minutes to hours\n",
    "\n",
    "minutes = 150\n",
    "hours = minutes / 60\n",
    "\n",
    "print(f\"{minutes} minutes is equal to {hours} hours\")"
   ]
  },
  {
   "cell_type": "code",
   "execution_count": null,
   "metadata": {},
   "outputs": [],
   "source": [
    "# A Beginner's Introduction to Data Science Tools and Expressions\n",
    "\n",
    "This notebook provides a basic overview of fundamental concepts and tools used in the field of Data Science. We will explore common languages, libraries, and tools, along with simple arithmetic expressions and their implementation in a coding environment.\n",
    "\n",
    "## Objectives\n",
    "\n",
    "The objectives of this notebook are as follows:\n",
    "\n",
    "* To introduce some of the popular programming languages used in Data Science.\n",
    "* To list several key libraries commonly employed by Data Scientists.\n",
    "* To provide a table summarizing various Data Science tools and their descriptions.\n",
    "* To demonstrate basic arithmetic expressions in a code cell.\n",
    "* To illustrate a simple conversion using a code cell."
   ]
  },
  {
   "cell_type": "code",
   "execution_count": null,
   "metadata": {},
   "outputs": [],
   "source": [
    "# A Beginner's Introduction to Data Science Tools and Expressions\n",
    "\n",
    "This notebook provides a basic overview of fundamental concepts and tools used in the field of Data Science. We will explore common languages, libraries, and tools, along with simple arithmetic expressions and their implementation in a coding environment.\n",
    "\n",
    "## Author\n",
    "\n",
    "**Author:** CW"
   ]
  }
 ],
 "metadata": {
  "kernelspec": {
   "display_name": "Python 3 (ipykernel)",
   "language": "python",
   "name": "python3"
  },
  "language_info": {
   "codemirror_mode": {
    "name": "ipython",
    "version": 3
   },
   "file_extension": ".py",
   "mimetype": "text/x-python",
   "name": "python",
   "nbconvert_exporter": "python",
   "pygments_lexer": "ipython3",
   "version": "3.12.8"
  }
 },
 "nbformat": 4,
 "nbformat_minor": 4
}
